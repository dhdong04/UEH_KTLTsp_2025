{
 "cells": [
  {
   "cell_type": "markdown",
   "id": "73035243-b608-4c8d-9504-0669ba574390",
   "metadata": {},
   "source": [
    "**BÀI TẬP THỰC HÀNH BUỔI 2 / ĐỖ HUỲNH ĐÔNG -- 31231020990**"
   ]
  },
  {
   "cell_type": "markdown",
   "id": "4e508d60-ab09-4344-9457-155e24b74d13",
   "metadata": {},
   "source": [
    "# Cấu trúc điều kiện"
   ]
  },
  {
   "cell_type": "markdown",
   "id": "4bb01df1-f6d5-4cec-a812-90db6fbc35fb",
   "metadata": {},
   "source": [
    "## Bài 5"
   ]
  },
  {
   "cell_type": "code",
   "execution_count": 6,
   "id": "6f7a4df2-a216-42ee-99eb-f430a5595031",
   "metadata": {},
   "outputs": [
    {
     "name": "stdin",
     "output_type": "stream",
     "text": [
      " 8\n",
      " 3\n",
      " +\n"
     ]
    },
    {
     "name": "stdout",
     "output_type": "stream",
     "text": [
      "8 + 3 = 11\n"
     ]
    }
   ],
   "source": [
    "# Input\n",
    "a = float(input())\n",
    "b = float(input())\n",
    "op = input()\n",
    "\n",
    "# Các phép tính\n",
    "if op == \"+\":\n",
    "    result = a + b\n",
    "    print(f\"{a:.0f} + {b:.0f} = {result:.0f}\")\n",
    "elif op == \"-\":\n",
    "    result = a - b\n",
    "    print(f\"{a:.0f} - {b:.0f} = {result:.0f}\")\n",
    "elif op == \"*\":\n",
    "    result = a * b\n",
    "    print(f\"{a:.0f} * {b:.0f} = {result:.0f}\")\n",
    "elif op == \"/\":\n",
    "    if b == 0:\n",
    "        print(\"Không tính được\")\n",
    "    else:\n",
    "        result = a / b\n",
    "        print(f\"{a:.0f} / {b:.0f} = {result:.2f}\")  # lấy 2 số lẻ\n",
    "else:\n",
    "    print(\"Phép toán không hợp lệ\")"
   ]
  },
  {
   "cell_type": "markdown",
   "id": "8be07ad0-50cb-4f13-9b4a-acb3c6ff11fd",
   "metadata": {},
   "source": [
    "## Bài 6"
   ]
  },
  {
   "cell_type": "code",
   "execution_count": 14,
   "id": "db9c7373-8d43-46ff-b6db-2e6d745bb2f8",
   "metadata": {},
   "outputs": [
    {
     "name": "stdin",
     "output_type": "stream",
     "text": [
      "Nhập chỉ số điện cũ:  3\n",
      "Nhập chỉ số điện mới:  190\n"
     ]
    },
    {
     "name": "stdout",
     "output_type": "stream",
     "text": [
      "The amount to pay for 187 kWh consumed in the month is 275,535 VND.\n"
     ]
    }
   ],
   "source": [
    "# Nhập chỉ số điện\n",
    "old_kwh = int(input(\"Nhập chỉ số điện cũ: \"))\n",
    "new_kwh = int(input(\"Nhập chỉ số điện mới: \"))\n",
    "\n",
    "# Tính số kWh tiêu thụ\n",
    "consumed = new_kwh - old_kwh\n",
    "\n",
    "# Bảng giá điện (đồng / kWh)\n",
    "def electric_price(kwh):\n",
    "    if kwh <= 100:\n",
    "        return kwh * 1242\n",
    "    elif kwh <= 150:\n",
    "        return 100 * 1242 + (kwh - 100) * 1304\n",
    "    elif kwh <= 200:\n",
    "        return 100 * 1242 + 50 * 1304 + (kwh - 150) * 1651\n",
    "    elif kwh <= 300:\n",
    "        return 100 * 1242 + 50 * 1304 + 50 * 1651 + (kwh - 200) * 1788\n",
    "    elif kwh <= 400:\n",
    "        return 100 * 1242 + 50 * 1304 + 50 * 1651 + 100 * 1788 + (kwh - 300) * 1912\n",
    "    else:  # kwh > 400\n",
    "        return 100 * 1242 + 50 * 1304 + 50 * 1651 + 100 * 1788 + 100 * 1912 + (kwh - 400) * 1962\n",
    "\n",
    "# Tính tiền + VAT 10%\n",
    "amount = electric_price(consumed)\n",
    "amount_vat = int(amount * 1.1)  # làm tròn xuống thành số nguyên\n",
    "\n",
    "print(f\"The amount to pay for {consumed} kWh consumed in the month is {amount_vat:,} VND.\")"
   ]
  },
  {
   "cell_type": "markdown",
   "id": "84e3ad9b-7e62-420b-9b97-45bfcd568227",
   "metadata": {},
   "source": [
    "## Bài 7"
   ]
  },
  {
   "cell_type": "code",
   "execution_count": 10,
   "id": "9bf61b36-a2f4-4e00-9ec2-62a47ec3d1a8",
   "metadata": {},
   "outputs": [
    {
     "name": "stdin",
     "output_type": "stream",
     "text": [
      "Nhập ngày:  1\n",
      "Nhập tháng:  3\n",
      "Nhập năm:  2016\n"
     ]
    },
    {
     "name": "stdout",
     "output_type": "stream",
     "text": [
      "Previous day of 1/3/2016 is 29/2/2016.\n"
     ]
    }
   ],
   "source": [
    "# Hàm kiểm tra năm nhuận\n",
    "def is_leap_year(year):\n",
    "    return (year % 4 == 0 and year % 100 != 0) or (year % 400 == 0)\n",
    "\n",
    "# Hàm trả về số ngày của tháng\n",
    "def days_in_month(month, year):\n",
    "    if month in [1, 3, 5, 7, 8, 10, 12]:\n",
    "        return 31\n",
    "    elif month in [4, 6, 9, 11]:\n",
    "        return 30\n",
    "    elif month == 2:\n",
    "        return 29 if is_leap_year(year) else 28\n",
    "    else:\n",
    "        return 0  # trường hợp không hợp lệ\n",
    "\n",
    "# Nhập ngày, tháng, năm\n",
    "d = int(input(\"Nhập ngày: \"))\n",
    "m = int(input(\"Nhập tháng: \"))\n",
    "y = int(input(\"Nhập năm: \"))\n",
    "\n",
    "# Tính ngày trước\n",
    "if d == 1:\n",
    "    if m == 1:\n",
    "        # Ngày đầu năm\n",
    "        prev_d = 31\n",
    "        prev_m = 12\n",
    "        prev_y = y - 1\n",
    "    else:\n",
    "        # Ngày đầu tháng\n",
    "        prev_m = m - 1\n",
    "        prev_y = y\n",
    "        prev_d = days_in_month(prev_m, prev_y)\n",
    "else:\n",
    "    # Các ngày còn lại\n",
    "    prev_d = d - 1\n",
    "    prev_m = m\n",
    "    prev_y = y\n",
    "\n",
    "print(f\"Previous day of {d}/{m}/{y} is {prev_d}/{prev_m}/{prev_y}.\")"
   ]
  },
  {
   "cell_type": "markdown",
   "id": "4ce7a361-957c-49c6-ade5-1ac79b25794a",
   "metadata": {},
   "source": [
    "## Bài 8"
   ]
  },
  {
   "cell_type": "code",
   "execution_count": 12,
   "id": "eff96003-a4cc-44fd-a11b-473a1d4a9d61",
   "metadata": {},
   "outputs": [
    {
     "name": "stdin",
     "output_type": "stream",
     "text": [
      "Nhập cạnh a:  2\n",
      "Nhập cạnh b:  4\n",
      "Nhập cạnh c:  5\n"
     ]
    },
    {
     "name": "stdout",
     "output_type": "stream",
     "text": [
      "Các cạnh 2.0, 4.0, 5.0 tạo thành một tam giác.\n"
     ]
    }
   ],
   "source": [
    "# Nhập 3 cạnh\n",
    "a = float(input(\"Nhập cạnh a: \"))\n",
    "b = float(input(\"Nhập cạnh b: \"))\n",
    "c = float(input(\"Nhập cạnh c: \"))\n",
    "\n",
    "# Sắp xếp a <= b <= c\n",
    "x, y, z = sorted([a, b, c])\n",
    "\n",
    "# Kiểm tra tam giác\n",
    "if x + y > z:\n",
    "    print(f\"Các cạnh {a}, {b}, {c} tạo thành một tam giác.\")\n",
    "else:\n",
    "    print(f\"Các cạnh {a}, {b}, {c} không tạo thành một tam giác.\")"
   ]
  }
 ],
 "metadata": {
  "kernelspec": {
   "display_name": "Python 3 (ipykernel)",
   "language": "python",
   "name": "python3"
  },
  "language_info": {
   "codemirror_mode": {
    "name": "ipython",
    "version": 3
   },
   "file_extension": ".py",
   "mimetype": "text/x-python",
   "name": "python",
   "nbconvert_exporter": "python",
   "pygments_lexer": "ipython3",
   "version": "3.13.5"
  }
 },
 "nbformat": 4,
 "nbformat_minor": 5
}
