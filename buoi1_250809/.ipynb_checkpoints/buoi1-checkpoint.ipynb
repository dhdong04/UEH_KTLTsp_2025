{
 "cells": [
  {
   "cell_type": "markdown",
   "id": "838ba8cc-1408-4a22-9585-3ebfd63279f2",
   "metadata": {},
   "source": [
    "# Thực hành buổi 1"
   ]
  },
  {
   "cell_type": "code",
   "execution_count": 2,
   "id": "73e52212-3ffc-45ee-9eb2-830c6375964c",
   "metadata": {},
   "outputs": [
    {
     "name": "stdout",
     "output_type": "stream",
     "text": [
      "Hello, World!\n"
     ]
    }
   ],
   "source": [
    "print('Hello, World!')"
   ]
  },
  {
   "cell_type": "code",
   "execution_count": 4,
   "id": "ac2d8a49-b22b-451c-b71a-307be5535aa7",
   "metadata": {},
   "outputs": [
    {
     "name": "stdout",
     "output_type": "stream",
     "text": [
      "The value of c is 3.\n"
     ]
    }
   ],
   "source": [
    "a=27\n",
    "b=6\n",
    "\n",
    "# Chia lấy dư\n",
    "c = a % b;\n",
    "print(f\"The value of c is {c}.\");"
   ]
  },
  {
   "cell_type": "code",
   "execution_count": 6,
   "id": "e7a93544-bf02-41ae-9b57-e6890c48d26c",
   "metadata": {},
   "outputs": [
    {
     "name": "stdin",
     "output_type": "stream",
     "text": [
      "Num 1:  6\n",
      "Num 2:  2\n"
     ]
    },
    {
     "name": "stdout",
     "output_type": "stream",
     "text": [
      "2.0 6.0\n"
     ]
    }
   ],
   "source": [
    "# Sort num\n",
    "num1 = float(input('Num 1: '))\n",
    "num2 = float(input('Num 2: '))\n",
    "\n",
    "if num1 < num2:\n",
    "    final1 = num1\n",
    "    final2 = num2\n",
    "else:\n",
    "    final1 = num2\n",
    "    final2 = num1\n",
    "\n",
    "print(final1, final2)"
   ]
  },
  {
   "cell_type": "code",
   "execution_count": 9,
   "id": "fe9c68ed-614d-4d42-9d24-368f21514beb",
   "metadata": {},
   "outputs": [
    {
     "name": "stdout",
     "output_type": "stream",
     "text": [
      "10+111=121\n",
      "----------\n"
     ]
    }
   ],
   "source": [
    "# Tính tổng\n",
    "a = 10\n",
    "b = 111\n",
    "print(f'{a}+{b}={a+b}')\n",
    "print('-'*10)"
   ]
  }
 ],
 "metadata": {
  "kernelspec": {
   "display_name": "Python 3 (ipykernel)",
   "language": "python",
   "name": "python3"
  },
  "language_info": {
   "codemirror_mode": {
    "name": "ipython",
    "version": 3
   },
   "file_extension": ".py",
   "mimetype": "text/x-python",
   "name": "python",
   "nbconvert_exporter": "python",
   "pygments_lexer": "ipython3",
   "version": "3.12.1"
  }
 },
 "nbformat": 4,
 "nbformat_minor": 5
}
