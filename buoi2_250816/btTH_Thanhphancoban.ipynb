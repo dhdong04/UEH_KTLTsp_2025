{
 "cells": [
  {
   "cell_type": "markdown",
   "id": "5934ee59-042d-4d9c-be6c-1d67bb466a0e",
   "metadata": {},
   "source": [
    "**BÀI TẬP THỰC HÀNH BUỔI 2 / ĐỖ HUỲNH ĐÔNG -- 31231020990**"
   ]
  },
  {
   "cell_type": "markdown",
   "id": "cf8c9f2f-ca21-4546-8e07-b84ff2509fa9",
   "metadata": {},
   "source": [
    "# Các thành phần cơ bản của Python"
   ]
  },
  {
   "cell_type": "markdown",
   "id": "839200dc-5780-4495-84c7-b2d2fff1c7b3",
   "metadata": {},
   "source": [
    "## Bài 1"
   ]
  },
  {
   "cell_type": "code",
   "execution_count": 1,
   "id": "f6702d32-dfe4-4270-a248-5b114cfae35f",
   "metadata": {},
   "outputs": [
    {
     "name": "stdout",
     "output_type": "stream",
     "text": [
      "**************************\n",
      "* Truong: Dai Hoc UEH    *\n",
      "* Khoa: CNTT             *\n",
      "* Ho ten:                *\n",
      "**************************\n"
     ]
    }
   ],
   "source": [
    "print(\"**************************\")\n",
    "print(\"* Truong: Dai Hoc UEH    *\")\n",
    "print(\"* Khoa: CNTT             *\")\n",
    "print(\"* Ho ten:                *\")\n",
    "print(\"**************************\")"
   ]
  },
  {
   "cell_type": "markdown",
   "id": "35757b72-29f9-47b5-87af-6f1c063ab303",
   "metadata": {},
   "source": [
    "## Bài 2"
   ]
  },
  {
   "cell_type": "code",
   "execution_count": 2,
   "id": "b5b3e17a-d759-41e7-b3d6-e386ceb5f7b0",
   "metadata": {},
   "outputs": [
    {
     "name": "stdin",
     "output_type": "stream",
     "text": [
      "Nhap ban kinh R:  5\n"
     ]
    },
    {
     "name": "stdout",
     "output_type": "stream",
     "text": [
      "Dien tich S = 78.5\n",
      "Chu vi P = 31.4\n"
     ]
    }
   ],
   "source": [
    "R = float(input(\"Nhap ban kinh R: \"))\n",
    "\n",
    "S = 3.14 * R**2\n",
    "P = 2 * 3.14 * R\n",
    "\n",
    "print(f\"Dien tich S = {S:.1f}\")\n",
    "print(f\"Chu vi P = {P:.1f}\")"
   ]
  },
  {
   "cell_type": "markdown",
   "id": "bf673bb3-089c-4322-a1a2-441db343cea4",
   "metadata": {},
   "source": [
    "## Bài 3"
   ]
  },
  {
   "cell_type": "code",
   "execution_count": 12,
   "id": "4e412874-8fa4-401b-9420-5e53f70bf56c",
   "metadata": {},
   "outputs": [
    {
     "name": "stdin",
     "output_type": "stream",
     "text": [
      "Nhap so gio:  1\n",
      "Nhap so phut:  20\n",
      "Nhap so giay:  10\n"
     ]
    },
    {
     "name": "stdout",
     "output_type": "stream",
     "text": [
      "Tong so giay cua 1:20:10 la 4810 giay\n"
     ]
    }
   ],
   "source": [
    "h = int(input(\"Nhap so gio: \"))\n",
    "m = int(input(\"Nhap so phut: \"))\n",
    "s = int(input(\"Nhap so giay: \"))\n",
    "\n",
    "tong_giay = h * 3600 + m * 60 + s\n",
    "\n",
    "print(f\"Tong so giay cua {h}:{m}:{s} la {tong_giay} giay\")"
   ]
  },
  {
   "cell_type": "markdown",
   "id": "2ca160ad-c39d-41c4-8564-12456991595d",
   "metadata": {},
   "source": [
    "## Bài 4"
   ]
  },
  {
   "cell_type": "code",
   "execution_count": 16,
   "id": "4ecae377-1f35-4b5c-bd08-5401eb8182b4",
   "metadata": {},
   "outputs": [
    {
     "name": "stdin",
     "output_type": "stream",
     "text": [
      "Nhap vao tong so giay:  4810\n"
     ]
    },
    {
     "name": "stdout",
     "output_type": "stream",
     "text": [
      "4810 giay co dang 10:20.166666666666668:10\n"
     ]
    }
   ],
   "source": [
    "t = int(input(\"Nhap vao tong so giay: \"))\n",
    "\n",
    "h = t // 3600\n",
    "m = (t % 3600) / 60\n",
    "s = t % 60\n",
    "\n",
    "print(f\"{t} giay co dang {s}:{m}:{s}\")"
   ]
  },
  {
   "cell_type": "markdown",
   "id": "edf07c93-01c8-44ec-9de3-5fba8ed20ff5",
   "metadata": {},
   "source": [
    "## Bài 5"
   ]
  },
  {
   "cell_type": "code",
   "execution_count": 17,
   "id": "e8ac3c0c-0b90-4a6d-8c52-935dba24fb85",
   "metadata": {},
   "outputs": [
    {
     "name": "stdin",
     "output_type": "stream",
     "text": [
      "Nhap do dai canh a:  2\n",
      "Nhap do dai canh b:  4\n",
      "Nhap do dai canh c:  3\n"
     ]
    },
    {
     "name": "stdout",
     "output_type": "stream",
     "text": [
      "Dien tich tam giac S = 2.90\n"
     ]
    }
   ],
   "source": [
    "import math\n",
    "\n",
    "a = float(input(\"Nhap do dai canh a: \"))\n",
    "b = float(input(\"Nhap do dai canh b: \"))\n",
    "c = float(input(\"Nhap do dai canh c: \"))\n",
    "\n",
    "# Tính nửa chu vi\n",
    "p = (a + b + c) / 2\n",
    "\n",
    "# Tính diện tích theo công thức Heron\n",
    "S = math.sqrt(p * (p - a) * (p - b) * (p - c))\n",
    "\n",
    "print(\"Dien tich tam giac S = {:.2f}\".format(S))"
   ]
  },
  {
   "cell_type": "markdown",
   "id": "b3f7f9eb-33d4-40e8-a79c-91d5f1c89176",
   "metadata": {},
   "source": [
    "## Bài 6"
   ]
  },
  {
   "cell_type": "code",
   "execution_count": 20,
   "id": "dcedcbea-3894-465e-8884-8a2ba8333fbe",
   "metadata": {},
   "outputs": [
    {
     "name": "stdin",
     "output_type": "stream",
     "text": [
      "Nhap so thuc a:  2\n",
      "Nhap so mu n:  4\n"
     ]
    },
    {
     "name": "stdout",
     "output_type": "stream",
     "text": [
      "Ket qua 2^4 = 16\n"
     ]
    }
   ],
   "source": [
    "a = float(input(\"Nhap so thuc a: \"))\n",
    "n = int(input(\"Nhap so mu n: \"))\n",
    "\n",
    "a_n = a ** n\n",
    "\n",
    "print(f\"Ket qua {int(a)}^{n} = {int(a_n)}\")"
   ]
  },
  {
   "cell_type": "markdown",
   "id": "1268c3d9-f914-45c2-b64e-613d7cc2cffc",
   "metadata": {},
   "source": [
    "## Bài 7"
   ]
  },
  {
   "cell_type": "code",
   "execution_count": 25,
   "id": "99315ca6-c8be-4c92-87b3-e3e17321bec9",
   "metadata": {},
   "outputs": [
    {
     "name": "stdin",
     "output_type": "stream",
     "text": [
      "Nhap so nguyen co 4 chu so: x =  1234\n"
     ]
    },
    {
     "name": "stdout",
     "output_type": "stream",
     "text": [
      "So dao: y = 4321\n"
     ]
    }
   ],
   "source": [
    "x = int(input(\"Nhap so nguyen co 4 chu so: x = \"))\n",
    "\n",
    "y = int(str(x)[::-1])\n",
    "\n",
    "print(f\"So dao: y = {y}\")"
   ]
  },
  {
   "cell_type": "markdown",
   "id": "a6782a92-c61e-4873-997e-83a79cc2389b",
   "metadata": {},
   "source": [
    "## Bài 8"
   ]
  },
  {
   "cell_type": "code",
   "execution_count": 29,
   "id": "a925d9b7-b32f-4942-b3f9-2df77a3ef5d3",
   "metadata": {},
   "outputs": [
    {
     "name": "stdin",
     "output_type": "stream",
     "text": [
      "Nhap goc (do):  180\n"
     ]
    },
    {
     "name": "stdout",
     "output_type": "stream",
     "text": [
      "180 do = 3.1416 radian\n"
     ]
    }
   ],
   "source": [
    "import math\n",
    "\n",
    "do = int(input(\"Nhap goc (do): \"))\n",
    "radian = do * math.pi / 180\n",
    "\n",
    "print(f\"{do} do = {radian:.4f} radian\")"
   ]
  },
  {
   "cell_type": "markdown",
   "id": "b0c1cfc7-e3de-4cc6-b387-87aa77035bb7",
   "metadata": {},
   "source": [
    "## Bài 9"
   ]
  },
  {
   "cell_type": "code",
   "execution_count": 31,
   "id": "88bda729-3870-4962-98ff-8b50a907450a",
   "metadata": {},
   "outputs": [
    {
     "name": "stdin",
     "output_type": "stream",
     "text": [
      "Nhap x:  123\n"
     ]
    },
    {
     "name": "stdout",
     "output_type": "stream",
     "text": [
      "y1 = 116561.44\n",
      "y2 = 0.0\n"
     ]
    }
   ],
   "source": [
    "import math\n",
    "\n",
    "x = float(input(\"Nhap x: \"))\n",
    "\n",
    "y1 = 4 * (x**2 + 10*x*math.sqrt(x) + 3*x + 1)\n",
    "\n",
    "y2 = (math.sin(x**2) + math.sqrt(x**2 + 1)) / (math.exp(2*x) + math.cos((math.pi/4)*x))\n",
    "\n",
    "print(\"y1 =\", round(y1, 2))\n",
    "print(\"y2 =\", round(y2, 2))"
   ]
  },
  {
   "cell_type": "markdown",
   "id": "a2dab871-8f1e-404c-822e-939d3b269c74",
   "metadata": {},
   "source": [
    "## Bài 10"
   ]
  },
  {
   "cell_type": "code",
   "execution_count": 34,
   "id": "36b2e850-6898-4f0e-bf90-de59abd9ce5d",
   "metadata": {},
   "outputs": [
    {
     "name": "stdin",
     "output_type": "stream",
     "text": [
      "Nhap x1:  -9\n",
      "Nhap y1:  11\n",
      "Nhap x2:  67\n",
      "Nhap y2:  -32\n"
     ]
    },
    {
     "name": "stdout",
     "output_type": "stream",
     "text": [
      "Khoang cach giua A(-9, 11) va B(67, -32) la: 87.32\n"
     ]
    }
   ],
   "source": [
    "import math\n",
    "\n",
    "# Nhập toạ độ điểm A\n",
    "x1 = int(input(\"Nhap x1: \"))\n",
    "y1 = int(input(\"Nhap y1: \"))\n",
    "\n",
    "# Nhập toạ độ điểm B\n",
    "x2 = int(input(\"Nhap x2: \"))\n",
    "y2 = int(input(\"Nhap y2: \"))\n",
    "\n",
    "# Tính khoảng cách\n",
    "d = math.sqrt((x2 - x1)**2 + (y2 - y1)**2)\n",
    "\n",
    "print(f\"Khoang cach giua A({x1}, {y1}) va B({x2}, {y2}) la: {d:.2f}\")"
   ]
  }
 ],
 "metadata": {
  "kernelspec": {
   "display_name": "Python 3 (ipykernel)",
   "language": "python",
   "name": "python3"
  },
  "language_info": {
   "codemirror_mode": {
    "name": "ipython",
    "version": 3
   },
   "file_extension": ".py",
   "mimetype": "text/x-python",
   "name": "python",
   "nbconvert_exporter": "python",
   "pygments_lexer": "ipython3",
   "version": "3.13.5"
  }
 },
 "nbformat": 4,
 "nbformat_minor": 5
}
