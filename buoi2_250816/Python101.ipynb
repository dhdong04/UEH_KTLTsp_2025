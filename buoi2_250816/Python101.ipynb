{
 "cells": [
  {
   "cell_type": "code",
   "execution_count": null,
   "id": "3576e723-5e6d-4593-b6a6-ad509707f67b",
   "metadata": {},
   "outputs": [],
   "source": [
    "#####----PYTHON 101----#####"
   ]
  },
  {
   "cell_type": "code",
   "execution_count": 26,
   "id": "4992f299-b197-41c0-82ce-a7c417a0028d",
   "metadata": {},
   "outputs": [],
   "source": [
    "## Ngôn ngữ Python"
   ]
  },
  {
   "cell_type": "code",
   "execution_count": 2,
   "id": "46da34cc-b122-4b10-b579-f2bfb4b49827",
   "metadata": {},
   "outputs": [
    {
     "name": "stdout",
     "output_type": "stream",
     "text": [
      "194.87\n"
     ]
    }
   ],
   "source": [
    "#Future Value\n",
    "pv = 100\n",
    "r = 0.1\n",
    "n = 7\n",
    "fv = pv * ((1 + (r)) ** n)\n",
    "print(round(fv, 2))"
   ]
  },
  {
   "cell_type": "code",
   "execution_count": 9,
   "id": "cf9bc3e1-6984-406f-b00c-485f85495012",
   "metadata": {},
   "outputs": [
    {
     "name": "stdout",
     "output_type": "stream",
     "text": [
      "194.87\n"
     ]
    }
   ],
   "source": [
    "amount = 100\n",
    "interest = 10 #10% = 0.01 * 10\n",
    "years = 7\n",
    "future_value = amount * ((1 + (0.01 * interest)) ** years)\n",
    "print(round(future_value, 2))"
   ]
  },
  {
   "cell_type": "code",
   "execution_count": 10,
   "id": "a466c6ce-5e9a-438f-b394-10f375314af4",
   "metadata": {},
   "outputs": [
    {
     "name": "stdout",
     "output_type": "stream",
     "text": [
      "194.87\n"
     ]
    }
   ],
   "source": [
    "#Python Function def\n",
    "def getfv(pv, r, n):\n",
    "    fv = pv * ((1 + (r)) ** n)\n",
    "    return fv\n",
    "fv = getfv(100, 0.1, 7)\n",
    "print(round(fv, 2))\n"
   ]
  },
  {
   "cell_type": "code",
   "execution_count": 11,
   "id": "6cb02ca7-b50e-4976-b950-f15a9d54f3ae",
   "metadata": {},
   "outputs": [
    {
     "name": "stdout",
     "output_type": "stream",
     "text": [
      "Pass\n"
     ]
    }
   ],
   "source": [
    "#Python if else\n",
    "score = 80\n",
    "if score >= 60 :\n",
    "    print (\"Pass\")\n",
    "else:\n",
    "    print(\"Fail\")"
   ]
  },
  {
   "cell_type": "code",
   "execution_count": 13,
   "id": "1f2901e0-b9bf-41a0-ad06-cfbd2c701a21",
   "metadata": {},
   "outputs": [
    {
     "name": "stdout",
     "output_type": "stream",
     "text": [
      "Hello\n"
     ]
    }
   ],
   "source": [
    "# Python Variables\n",
    "x = 2\n",
    "price = 2.5\n",
    "word = 'Hello'\n",
    "word = \"Hello\"\n",
    "word = '''Hello'''\n",
    "print(word)"
   ]
  },
  {
   "cell_type": "code",
   "execution_count": 14,
   "id": "0e3d647d-ceec-4725-9bd3-994f313d7d3a",
   "metadata": {},
   "outputs": [
    {
     "name": "stdout",
     "output_type": "stream",
     "text": [
      "Python Version: 3.13.5\n"
     ]
    }
   ],
   "source": [
    "# comment\n",
    "from platform import python_version\n",
    "print(\"Python Version:\", python_version())"
   ]
  },
  {
   "cell_type": "code",
   "execution_count": 25,
   "id": "3545fae1-ad55-4690-9917-b89c7af992a8",
   "metadata": {},
   "outputs": [
    {
     "name": "stdout",
     "output_type": "stream",
     "text": [
      "3 <class 'str'>\n",
      "3 <class 'int'>\n",
      "3.0 <class 'float'>\n"
     ]
    }
   ],
   "source": [
    "#Data types\n",
    "x = \"Hello World\" #str\n",
    "x = 2 #int\n",
    "x = 2.5 #float\n",
    "x = 7j #complex \n",
    "x = [\"apple\", \"banana\", \"cherry\"] #list\n",
    "x = (\"apple\", \"banana\", \"cherry\") #tuple\n",
    "x = range(6) #range\n",
    "x = {\"name\" : \"Tom\", \"age\" : 20} #dict\n",
    "x = {\"apple\", \"banana\", \"cherry\"} #set\n",
    "x = frozenset({\"apple\", \"banana\", \"cherry\"})\n",
    "#frozenset\n",
    "x = True #bool\n",
    "x = b\"Hello\" #bytes\n",
    "x = bytearray(5) #bytearray\n",
    "x = memoryview(bytes(5)) #memoryview\n",
    "x = None #NoneType\n",
    "\n",
    "#Casting\n",
    "x = str(3) # x will be '3'\n",
    "y = int(3) # y will be 3\n",
    "z = float(3) # z will be 3.0\n",
    "print(x, type(x))\n",
    "print(y, type(y))\n",
    "print(z, type(z))"
   ]
  },
  {
   "cell_type": "code",
   "execution_count": 27,
   "id": "f61f3f01-cea9-4725-9cbe-2e38f31c6277",
   "metadata": {},
   "outputs": [
    {
     "name": "stdout",
     "output_type": "stream",
     "text": [
      "2 <class 'int'>\n",
      "3.4 <class 'float'>\n",
      "7j <class 'complex'>\n"
     ]
    }
   ],
   "source": [
    "#Numbers\n",
    "x = 2 # int\n",
    "y = 3.4 # float\n",
    "z = 7j #complex\n",
    "print(x, type(x))\n",
    "print(y, type(y))\n",
    "print(z, type(z))"
   ]
  },
  {
   "cell_type": "code",
   "execution_count": 20,
   "id": "ab788277-af7a-45f3-8946-2eaeb7668cf9",
   "metadata": {},
   "outputs": [
    {
     "name": "stdout",
     "output_type": "stream",
     "text": [
      "7 + 2 = 9\n",
      "7 - 2 = 5\n",
      "7 * 2 = 14\n",
      "7 / 2 = 3.5\n",
      "7 // 2 = 3\n",
      "7 % 2 = 1\n",
      "7 ** 2 = 49\n"
     ]
    }
   ],
   "source": [
    "#Python Basic Operators\n",
    "print('7 + 2 =', 7 + 2)\n",
    "print('7 - 2 =', 7 - 2)\n",
    "print('7 * 2 =', 7 * 2)\n",
    "print('7 / 2 =', 7 / 2)\n",
    "print('7 // 2 =', 7 // 2)\n",
    "print('7 % 2 =', 7 % 2)\n",
    "print('7 ** 2 =', 7 ** 2)"
   ]
  },
  {
   "cell_type": "code",
   "execution_count": 21,
   "id": "9df3e52d-8f0a-4e6f-8605-fc63209da5c9",
   "metadata": {},
   "outputs": [
    {
     "name": "stdout",
     "output_type": "stream",
     "text": [
      "True\n",
      "False\n",
      "False\n"
     ]
    }
   ],
   "source": [
    "# Python Booleans: True or False\n",
    "print(3 > 2)\n",
    "print(3 == 2)\n",
    "print(3 < 2)"
   ]
  },
  {
   "cell_type": "code",
   "execution_count": 24,
   "id": "943b2fc0-a3de-49c0-9664-36a02d1b1044",
   "metadata": {},
   "outputs": [
    {
     "name": "stdout",
     "output_type": "stream",
     "text": [
      "Your BMI is: 20.8\n"
     ]
    }
   ],
   "source": [
    "# BMI Calculator in Python\n",
    "height_cm = 170\n",
    "weight_kg = 60\n",
    "height_m = height_cm/100\n",
    "BMI = (weight_kg/(height_m**2))\n",
    "print(\"Your BMI is: \" + str(round(BMI,1)))"
   ]
  },
  {
   "cell_type": "code",
   "execution_count": null,
   "id": "871bb48a-5f39-4bdb-b837-9d3f4785bb6f",
   "metadata": {},
   "outputs": [],
   "source": [
    "## Cấu trúc dữ liệu"
   ]
  },
  {
   "cell_type": "code",
   "execution_count": 29,
   "id": "86cc4f61-c63a-4b7d-9485-66b58a9c43b2",
   "metadata": {},
   "outputs": [
    {
     "name": "stdout",
     "output_type": "stream",
     "text": [
      "['apple', 'banana', 'cherry'] <class 'list'>\n",
      "('apple', 'banana', 'cherry') <class 'tuple'>\n",
      "{'name': 'Tom', 'age': 20} <class 'dict'>\n",
      "{'apple', 'banana', 'cherry'} <class 'set'>\n"
     ]
    }
   ],
   "source": [
    "x = [\"apple\", \"banana\", \"cherry\"] #list\n",
    "print (x, type(x))\n",
    "x = (\"apple\", \"banana\", \"cherry\") #tuple\n",
    "print (x, type(x))\n",
    "x = {\"name\" : \"Tom\", \"age\" : 20} #dict\n",
    "print (x, type(x))\n",
    "x = {\"apple\", \"banana\", \"cherry\"} #set \n",
    "print (x, type(x))"
   ]
  },
  {
   "cell_type": "code",
   "execution_count": 30,
   "id": "8c954460-cff1-4ad4-b9df-d4ec4cc32644",
   "metadata": {},
   "outputs": [
    {
     "name": "stdout",
     "output_type": "stream",
     "text": [
      "4\n",
      "60\n",
      "70\n",
      "90\n"
     ]
    }
   ],
   "source": [
    "# List\n",
    "x = [60, 70, 80, 90]\n",
    "print(len(x))\n",
    "print(x[0])\n",
    "print(x[1])\n",
    "print(x[-1])"
   ]
  },
  {
   "cell_type": "code",
   "execution_count": 31,
   "id": "005ad436-ab90-48e7-bd81-0b22c3ad3928",
   "metadata": {},
   "outputs": [
    {
     "name": "stdout",
     "output_type": "stream",
     "text": [
      "10\n",
      "20\n",
      "30\n",
      "50\n"
     ]
    }
   ],
   "source": [
    "#tuple\n",
    "x = (10, 20, 30, 40, 50)\n",
    "print(x[0])\n",
    "print(x[1])\n",
    "print(x[2])\n",
    "print(x[-1])"
   ]
  },
  {
   "cell_type": "code",
   "execution_count": 33,
   "id": "f50e5f55-b766-41e1-96fb-76ee15fc39fb",
   "metadata": {},
   "outputs": [
    {
     "name": "stdout",
     "output_type": "stream",
     "text": [
      "True\n",
      "False\n",
      "True\n",
      "3\n",
      "3\n",
      "2\n"
     ]
    }
   ],
   "source": [
    "animals = {'cat', 'dog'}\n",
    "print('cat' in animals)\n",
    "print('fish' in animals)\n",
    "animals.add('fish')\n",
    "print('fish' in animals)\n",
    "print(len(animals))\n",
    "animals.add('cat')\n",
    "print(len(animals))\n",
    "animals.remove('cat')\n",
    "print(len(animals))"
   ]
  },
  {
   "cell_type": "code",
   "execution_count": 34,
   "id": "ca27b5d2-f86e-4dc2-a286-de2a745ed798",
   "metadata": {},
   "outputs": [
    {
     "name": "stdout",
     "output_type": "stream",
     "text": [
      "English\n"
     ]
    }
   ],
   "source": [
    "# dictionary\n",
    "k = { 'EN':'English','FR':'French' }\n",
    "print(k['EN'])\n"
   ]
  },
  {
   "cell_type": "code",
   "execution_count": 37,
   "id": "acf87a62-7771-483b-8ad9-3d6faf7d38bf",
   "metadata": {},
   "outputs": [],
   "source": [
    "# data types\n",
    "fruits = [\"apple\", \"banana\", \"cherry\"] #lists []\n",
    "colors = (\"red\", \"green\", \"blue\")      #tuples ()\n",
    "animals = {'cat', 'dog'}               #sets {}\n",
    "person = {\"name\" : \"Tom\", \"age\" : 20}  #dictionaries {}"
   ]
  },
  {
   "cell_type": "code",
   "execution_count": 38,
   "id": "05e83517-cd01-4eed-ae11-5b4ce09e52d0",
   "metadata": {},
   "outputs": [
    {
     "name": "stdout",
     "output_type": "stream",
     "text": [
      "Total expenses: 293.5\n"
     ]
    }
   ],
   "source": [
    "# Python Lists\n",
    "expenses = [72.50, 80.75, 50.00, 90.25]\n",
    "total_expenses = sum(expenses)\n",
    "print(\"Total expenses:\", total_expenses)"
   ]
  },
  {
   "cell_type": "code",
   "execution_count": 43,
   "id": "6b369d4c-0503-49ee-b5f8-c6d9774e5e5d",
   "metadata": {},
   "outputs": [
    {
     "name": "stdout",
     "output_type": "stream",
     "text": [
      "Account name: Cash Account number: 1001\n",
      "Account name: Accounts Receivable Account number: 1002\n",
      "Account name: Inventory Account number: 1003\n"
     ]
    }
   ],
   "source": [
    "# Python Tuples\n",
    "accounts = ((\"Cash\", 1001), (\"Accounts Receivable\", 1002),\n",
    "(\"Inventory\", 1003))\n",
    "for account in accounts:\n",
    "    print(\"Account name:\", account[0], \"Account number:\", account[1])"
   ]
  },
  {
   "cell_type": "code",
   "execution_count": 46,
   "id": "e39d38b9-d217-43dd-bec6-ebbe820e1a7a",
   "metadata": {},
   "outputs": [
    {
     "name": "stdout",
     "output_type": "stream",
     "text": [
      "{1001, 1002, 1003}\n",
      "Account number 1004 is not in use.\n"
     ]
    }
   ],
   "source": [
    "# Python Sets\n",
    "account_numbers = set([acc[1] for acc in accounts]) # et comprehensive\n",
    "print(account_numbers)\n",
    "account_numbers = {1001, 1002, 1003}\n",
    "new_account_number = 1004\n",
    "if new_account_number not in account_numbers:\n",
    "    print(\"Account number\", new_account_number, \"is not in use.\")"
   ]
  },
  {
   "cell_type": "markdown",
   "id": "e6a5dce4-51f6-40c2-8797-bbf0e437c452",
   "metadata": {},
   "source": [
    "#dictionary\n",
    "accounts = {\n",
    "    \"1001\": {\"name\": \"Cash\", \"balance\": 500.00, \"type\": \"Asset\"},\n",
    "    \"1002\": {\"name\": \"Accounts Receivable\", \"balance\": 1000.00, \"type\": \"Asset\"},\n",
    "    \"2001\": {\"name\": \"Accounts Payable\", \"balance\": 750.00, \"type\": \"Liability\"}\n",
    "}\n",
    "for acc_num, acc_info in accounts.items():\n",
    "    print(\"-\" * 50)\n",
    "    print(\"Account number:\", acc_num)\n",
    "    print(\"Account name:\", acc_info[\"name\"])\n",
    "    print(\"Account balance:\", acc_info[\"balance\"])\n",
    "    print(\"Account type:\", acc_info[\"type\"])\n"
   ]
  },
  {
   "cell_type": "code",
   "execution_count": null,
   "id": "195f60b8-afa3-4742-92df-fe29669a2c43",
   "metadata": {},
   "outputs": [],
   "source": [
    "## Control Logic & Loop"
   ]
  },
  {
   "cell_type": "code",
   "execution_count": 52,
   "id": "38e8302b-6458-4ad0-9598-3757ff525657",
   "metadata": {},
   "outputs": [
    {
     "name": "stdout",
     "output_type": "stream",
     "text": [
      "Pass\n"
     ]
    }
   ],
   "source": [
    "# If\n",
    "score = 80\n",
    "if score >=60 :\n",
    "    print(\"Pass\")"
   ]
  },
  {
   "cell_type": "code",
   "execution_count": 51,
   "id": "fbe4e38e-9d56-42d5-9d72-d20ee7fb55ee",
   "metadata": {},
   "outputs": [
    {
     "name": "stdout",
     "output_type": "stream",
     "text": [
      "Pass\n"
     ]
    }
   ],
   "source": [
    "# If else\n",
    "score = 80\n",
    "if score >= 60 :\n",
    "    print(\"Pass\")\n",
    "else:\n",
    "    print(\"Fail\")"
   ]
  },
  {
   "cell_type": "code",
   "execution_count": 54,
   "id": "393799f2-50f5-4532-a6f4-9976344a3461",
   "metadata": {},
   "outputs": [
    {
     "name": "stdout",
     "output_type": "stream",
     "text": [
      "A\n"
     ]
    }
   ],
   "source": [
    "# if elif else\n",
    "score = 95\n",
    "if score >= 90 :\n",
    "    print(\"A\")\n",
    "elif score >=60 :   # score < 90 and score >= 60\n",
    "    print(\"Pass\")\n",
    "else:\n",
    "    print(\"Fail\")"
   ]
  },
  {
   "cell_type": "code",
   "execution_count": 55,
   "id": "9c49c16b-b841-4d85-b936-f9b2dd82b6a4",
   "metadata": {},
   "outputs": [
    {
     "name": "stdout",
     "output_type": "stream",
     "text": [
      "A\n"
     ]
    }
   ],
   "source": [
    "score = 90\n",
    "grade = \"\"\n",
    "if score >=90:    # [>90]\n",
    "    grade = \"A\"\n",
    "elif score >= 80:    # score < 90 and score >= 80 [80, 90)\n",
    "    grade = \"B\"\n",
    "elif score >= 70:    # [70, 80)\n",
    "    grade = \"C\"\n",
    "elif score >= 60:    # [60, 70)\n",
    "    grade = \"D\"\n",
    "else:                # score < 60\n",
    "    grade = \"E\"\n",
    "print(grade)"
   ]
  },
  {
   "cell_type": "code",
   "execution_count": 56,
   "id": "afad73da-2951-441c-a391-d188f8b342c0",
   "metadata": {},
   "outputs": [
    {
     "name": "stdout",
     "output_type": "stream",
     "text": [
      "1\n",
      "2\n",
      "3\n",
      "4\n",
      "5\n"
     ]
    }
   ],
   "source": [
    "# loop\n",
    "for i in range(1,6):\n",
    "    print(i)"
   ]
  },
  {
   "cell_type": "code",
   "execution_count": 60,
   "id": "4e5a8775-40c0-4ee7-9163-399dcbba3988",
   "metadata": {},
   "outputs": [
    {
     "name": "stdout",
     "output_type": "stream",
     "text": [
      "1  *  1  =  1\n",
      "1  *  2  =  2\n",
      "1  *  3  =  3\n",
      "1  *  4  =  4\n",
      "1  *  5  =  5\n",
      "1  *  6  =  6\n",
      "1  *  7  =  7\n",
      "1  *  8  =  8\n",
      "1  *  9  =  9\n",
      "--------------------------------------------------\n",
      "2  *  1  =  2\n",
      "2  *  2  =  4\n",
      "2  *  3  =  6\n",
      "2  *  4  =  8\n",
      "2  *  5  =  10\n",
      "2  *  6  =  12\n",
      "2  *  7  =  14\n",
      "2  *  8  =  16\n",
      "2  *  9  =  18\n",
      "--------------------------------------------------\n",
      "3  *  1  =  3\n",
      "3  *  2  =  6\n",
      "3  *  3  =  9\n",
      "3  *  4  =  12\n",
      "3  *  5  =  15\n",
      "3  *  6  =  18\n",
      "3  *  7  =  21\n",
      "3  *  8  =  24\n",
      "3  *  9  =  27\n",
      "--------------------------------------------------\n",
      "4  *  1  =  4\n",
      "4  *  2  =  8\n",
      "4  *  3  =  12\n",
      "4  *  4  =  16\n",
      "4  *  5  =  20\n",
      "4  *  6  =  24\n",
      "4  *  7  =  28\n",
      "4  *  8  =  32\n",
      "4  *  9  =  36\n",
      "--------------------------------------------------\n",
      "5  *  1  =  5\n",
      "5  *  2  =  10\n",
      "5  *  3  =  15\n",
      "5  *  4  =  20\n",
      "5  *  5  =  25\n",
      "5  *  6  =  30\n",
      "5  *  7  =  35\n",
      "5  *  8  =  40\n",
      "5  *  9  =  45\n",
      "--------------------------------------------------\n",
      "6  *  1  =  6\n",
      "6  *  2  =  12\n",
      "6  *  3  =  18\n",
      "6  *  4  =  24\n",
      "6  *  5  =  30\n",
      "6  *  6  =  36\n",
      "6  *  7  =  42\n",
      "6  *  8  =  48\n",
      "6  *  9  =  54\n",
      "--------------------------------------------------\n",
      "7  *  1  =  7\n",
      "7  *  2  =  14\n",
      "7  *  3  =  21\n",
      "7  *  4  =  28\n",
      "7  *  5  =  35\n",
      "7  *  6  =  42\n",
      "7  *  7  =  49\n",
      "7  *  8  =  56\n",
      "7  *  9  =  63\n",
      "--------------------------------------------------\n",
      "8  *  1  =  8\n",
      "8  *  2  =  16\n",
      "8  *  3  =  24\n",
      "8  *  4  =  32\n",
      "8  *  5  =  40\n",
      "8  *  6  =  48\n",
      "8  *  7  =  56\n",
      "8  *  8  =  64\n",
      "8  *  9  =  72\n",
      "--------------------------------------------------\n",
      "9  *  1  =  9\n",
      "9  *  2  =  18\n",
      "9  *  3  =  27\n",
      "9  *  4  =  36\n",
      "9  *  5  =  45\n",
      "9  *  6  =  54\n",
      "9  *  7  =  63\n",
      "9  *  8  =  72\n",
      "9  *  9  =  81\n",
      "--------------------------------------------------\n"
     ]
    }
   ],
   "source": [
    "# 2 loop\n",
    "for i in range(1,10):\n",
    "    for j in range(1,10):\n",
    "        print(i, ' * ' , j , ' = ', i*j)\n",
    "    print('-'*50)"
   ]
  },
  {
   "cell_type": "code",
   "execution_count": 62,
   "id": "512c1866-f672-470a-b0ee-304893cd42ab",
   "metadata": {},
   "outputs": [
    {
     "name": "stdout",
     "output_type": "stream",
     "text": [
      "10\n",
      "11\n",
      "12\n",
      "13\n",
      "14\n",
      "15\n",
      "16\n",
      "17\n",
      "18\n",
      "19\n"
     ]
    }
   ],
   "source": [
    "# while loops\n",
    "age = 10\n",
    "while age < 20:\n",
    "    print(age)\n",
    "    age = age + 1"
   ]
  },
  {
   "cell_type": "code",
   "execution_count": null,
   "id": "3c8d6289-5fbd-4f72-a334-5cdbf6f3b4d9",
   "metadata": {},
   "outputs": [],
   "source": [
    "## Module & Function"
   ]
  },
  {
   "cell_type": "code",
   "execution_count": 65,
   "id": "e83ce497-70aa-4eaf-89ef-817a70dabc80",
   "metadata": {},
   "outputs": [
    {
     "name": "stdout",
     "output_type": "stream",
     "text": [
      "194.87\n"
     ]
    }
   ],
   "source": [
    "# Python Function def\n",
    "# indentation for blocks. four spaces\n",
    "def getfv(pv, r, n):\n",
    "    fv = pv * ((1 + (r)) ** n)\n",
    "    return fv\n",
    "fv = getfv(100, 0.1, 7)\n",
    "print(round(fv, 2))"
   ]
  },
  {
   "cell_type": "code",
   "execution_count": null,
   "id": "aa30a4a8-4ed2-40f5-9219-7947656d75c0",
   "metadata": {},
   "outputs": [],
   "source": [
    "## Classes & Objects"
   ]
  },
  {
   "cell_type": "code",
   "execution_count": 70,
   "id": "d7b25fff-1e58-4fb2-a031-d2369dc3938f",
   "metadata": {},
   "outputs": [
    {
     "name": "stdout",
     "output_type": "stream",
     "text": [
      "5\n"
     ]
    }
   ],
   "source": [
    "# Python class\n",
    "class MyClass:\n",
    "    x = 5\n",
    "c1 = MyClass()\n",
    "print(c1.x)"
   ]
  },
  {
   "cell_type": "code",
   "execution_count": 71,
   "id": "a2fac630-7e36-4358-b7a7-390a64a590da",
   "metadata": {},
   "outputs": [
    {
     "name": "stdout",
     "output_type": "stream",
     "text": [
      "Alan 20\n"
     ]
    }
   ],
   "source": [
    "class Person:\n",
    "    def __init__(self, name, age):\n",
    "        self.name = name\n",
    "        self.age = age\n",
    "    \n",
    "p1 = Person(\"Alan\", 20)\n",
    "print(p1.name, p1.age)"
   ]
  },
  {
   "cell_type": "code",
   "execution_count": 76,
   "id": "ba896679-b698-4333-b87b-7b961ae32927",
   "metadata": {},
   "outputs": [
    {
     "name": "stdout",
     "output_type": "stream",
     "text": [
      "Alan 20\n",
      "Hello my name is  Alan\n"
     ]
    }
   ],
   "source": [
    "class Person:\n",
    "    def __init__(self, name, age):\n",
    "        self.name = name\n",
    "        self.age = age\n",
    "    def myfunc(self):\n",
    "        print(\"Hello my name is \",  self.name)\n",
    "p1 = Person(\"Alan\", 20)\n",
    "print(p1.name, p1.age)\n",
    "p1.myfunc()"
   ]
  },
  {
   "cell_type": "code",
   "execution_count": 1,
   "id": "1cbb943a-5b5d-48ed-93e8-72c5e668c2a5",
   "metadata": {},
   "outputs": [
    {
     "name": "stdout",
     "output_type": "stream",
     "text": [
      "Fer is a red convertible worth $60000.00.\n",
      "Jump is a van blue worth $10000.00.\n"
     ]
    }
   ],
   "source": [
    "class Vehicle:\n",
    "  name = \"\"\n",
    "  kind = \"car\"\n",
    "  color = \"\"\n",
    "  value = 100.0\n",
    "\n",
    "  def __init__(self, name=\"\", kind=\"car\", color=\"\", value=100.0):\n",
    "    self.name = name\n",
    "    self.kind = kind\n",
    "    self.color = color\n",
    "    self.value = value\n",
    "    pass\n",
    "\n",
    "  def description(self):\n",
    "    desc_str = f'{self.name} is a {self.color} {self.kind} worth ${self.value:.2f}.'\n",
    "    return desc_str\n",
    "    pass\n",
    "\n",
    "car1 = Vehicle()\n",
    "car1.name = 'Fer'\n",
    "car1.color = 'red'\n",
    "car1.kind = 'convertible'\n",
    "car1.value = 60000.0\n",
    "\n",
    "car2 = Vehicle(\"Jump\", 'blue', 'van', 10000.0)\n",
    "\n",
    "print(car1.description())\n",
    "print(car2.description())"
   ]
  },
  {
   "cell_type": "code",
   "execution_count": 84,
   "id": "c7a5d5f4-ebb0-4400-87d3-5138ea924dcf",
   "metadata": {},
   "outputs": [
    {
     "name": "stdout",
     "output_type": "stream",
     "text": [
      "Writing mymodule.py\n"
     ]
    }
   ],
   "source": [
    "%%writefile mymodule.py\n",
    "def greeting(name):\n",
    "    print(\"Hello, \" + name)"
   ]
  },
  {
   "cell_type": "code",
   "execution_count": 89,
   "id": "f5b8f9aa-0758-4243-90aa-3d3e2c28c762",
   "metadata": {},
   "outputs": [
    {
     "name": "stdout",
     "output_type": "stream",
     "text": [
      "def greeting(name):\n",
      "    print(\"Hello, \" + name)\n"
     ]
    }
   ],
   "source": [
    "!type mymodule.py"
   ]
  },
  {
   "cell_type": "code",
   "execution_count": 90,
   "id": "c3432a4b-1420-4793-8333-3af025aa6ff9",
   "metadata": {},
   "outputs": [
    {
     "name": "stdout",
     "output_type": "stream",
     "text": [
      "Hello, Alan\n"
     ]
    }
   ],
   "source": [
    "import mymodule\n",
    "mymodule.greeting(\"Alan\")"
   ]
  },
  {
   "cell_type": "code",
   "execution_count": 91,
   "id": "fe14eb1e-6acd-4c2f-8854-2d2d8fd0715f",
   "metadata": {},
   "outputs": [
    {
     "name": "stdout",
     "output_type": "stream",
     "text": [
      "Hello World!\n"
     ]
    }
   ],
   "source": [
    "#Python main() function\n",
    "def main():\n",
    "    print(\"Hello World!\")\n",
    "if __name__ == \"__main__\":\n",
    "    main()"
   ]
  },
  {
   "cell_type": "code",
   "execution_count": 95,
   "id": "1e845c96-c188-4679-b799-693ef9aecab8",
   "metadata": {},
   "outputs": [
    {
     "name": "stdout",
     "output_type": "stream",
     "text": [
      "mymodule.py\n",
      "def greeting(name): print(\"Hello, \" + name)\n"
     ]
    }
   ],
   "source": [
    "# Python File Input / Output\n",
    "filename = 'mymodule.py'\n",
    "with open(filename, 'w') as file:\n",
    "    text = '''def greeting(name): print(\"Hello, \" + name)'''\n",
    "    file.write(text)\n",
    "with open(filename, 'r') as file:\n",
    "    text = file.read()\n",
    "print(filename)\n",
    "print(text)"
   ]
  },
  {
   "cell_type": "code",
   "execution_count": 99,
   "id": "9792c6e5-d7c5-4a28-baa3-ac6457290f63",
   "metadata": {},
   "outputs": [
    {
     "name": "stdin",
     "output_type": "stream",
     "text": [
      "Enter the price of the stock (e.g. 10): 1000\n",
      "Enter the number of shares (e.g. 2): 2\n"
     ]
    },
    {
     "name": "stdout",
     "output_type": "stream",
     "text": [
      "The total value of the shares is: 2000.0\n",
      "Thank you.\n"
     ]
    }
   ],
   "source": [
    "# Files and Exception Handling\n",
    "try:\n",
    "    price = float(input(\"Enter the price of the stock (e.g. 10):\"))\n",
    "    shares = int(input(\"Enter the number of shares (e.g. 2):\"))\n",
    "    total = price * shares\n",
    "except Exception as e:\n",
    "    print(\"Exception error:\", str(e))\n",
    "else:\n",
    "    print(\"The total value of the shares is:\", total)\n",
    "finally:\n",
    "    print(\"Thank you.\")"
   ]
  },
  {
   "cell_type": "code",
   "execution_count": 101,
   "id": "218f6cb6-9336-48e4-8625-a1252407b6e2",
   "metadata": {},
   "outputs": [
    {
     "name": "stdout",
     "output_type": "stream",
     "text": [
      "Exception file Error\n"
     ]
    }
   ],
   "source": [
    "try:\n",
    "    file = open(\"myfile.txt\")\n",
    "    file.write(\"Python write file\")\n",
    "    print(\"file saved\")\n",
    "except:\n",
    "    print(\"Exception file Error\")"
   ]
  },
  {
   "cell_type": "code",
   "execution_count": 102,
   "id": "dbb10b38-e8a1-4b41-8096-0480cc44e4a6",
   "metadata": {},
   "outputs": [
    {
     "name": "stdout",
     "output_type": "stream",
     "text": [
      "Exception file Error\n",
      "Finally process\n"
     ]
    }
   ],
   "source": [
    "try:\n",
    "    file = open(\"myfile.txt\")\n",
    "    file.write(\"Python write file\")\n",
    "    print(\"file saved\")\n",
    "except:\n",
    "    print(\"Exception file Error\")\n",
    "finally:\n",
    "    file.close()\n",
    "    print(\"Finally process\")"
   ]
  },
  {
   "cell_type": "code",
   "execution_count": 104,
   "id": "334e91b4-51b2-43da-b96c-116429e40c77",
   "metadata": {},
   "outputs": [
    {
     "name": "stdout",
     "output_type": "stream",
     "text": [
      "file saved\n",
      "Finally process\n"
     ]
    }
   ],
   "source": [
    "try:\n",
    "    file = open(\"myfile.txt\", 'w')\n",
    "    file.write(\"Python write file\")\n",
    "    print(\"file saved\")\n",
    "except:\n",
    "    print(\"Exception file Error\")\n",
    "finally:\n",
    "    file.close()\n",
    "    print(\"Finally process\")"
   ]
  }
 ],
 "metadata": {
  "kernelspec": {
   "display_name": "Python 3 (ipykernel)",
   "language": "python",
   "name": "python3"
  },
  "language_info": {
   "codemirror_mode": {
    "name": "ipython",
    "version": 3
   },
   "file_extension": ".py",
   "mimetype": "text/x-python",
   "name": "python",
   "nbconvert_exporter": "python",
   "pygments_lexer": "ipython3",
   "version": "3.13.5"
  }
 },
 "nbformat": 4,
 "nbformat_minor": 5
}
